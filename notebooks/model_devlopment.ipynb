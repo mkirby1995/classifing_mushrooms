{
 "cells": [
  {
   "cell_type": "code",
   "execution_count": 1,
   "metadata": {
    "colab": {
     "base_uri": "https://localhost:8080/",
     "height": 613
    },
    "colab_type": "code",
    "id": "Xt_ymquC4-fR",
    "outputId": "ce451aae-35e5-4376-b149-10f8b9116092"
   },
   "outputs": [],
   "source": [
    "import pandas as pd\n",
    "import category_encoders as ce\n",
    "import numpy as np\n",
    "from sklearn.model_selection import train_test_split, RandomizedSearchCV\n",
    "from sklearn.tree import DecisionTreeClassifier\n",
    "from sklearn.ensemble import RandomForestClassifier\n",
    "import pickle\n",
    "from sklearn.metrics import classification_report, confusion_matrix\n",
    "import plotly.figure_factory as ff"
   ]
  },
  {
   "cell_type": "code",
   "execution_count": 2,
   "metadata": {},
   "outputs": [],
   "source": [
    "column_map = {\n",
    "    'cap-shape_b': 'Bell Cap Shape',\n",
    "    'cap-shape_c': 'Conical Cap Shape',\n",
    "    'cap-shape_x': 'Convex Cap Shape',\n",
    "    'cap-shape_f': 'Flat Cap Shape',\n",
    "    'cap-shape_k': 'Knobbed Cap Shape',\n",
    "    'cap-shape_s': 'Sunken Cap Shape',\n",
    "    'cap-surface_f': 'Fibrous Cap Surface',\n",
    "    'cap-surface_g': 'Groovey Cap Surface',\n",
    "    'cap-surface_y': 'Scaly Cap Surface',\n",
    "    'cap-surface_s': 'Smooth Cap Surface',\n",
    "    'cap-color_n': 'Brown Cap Color',\n",
    "    'cap-color_b': 'Buff Cap Color',\n",
    "    'cap-color_c': 'Cinnamon Cap Color',\n",
    "    'cap-color_g': 'Gray Cap Color',\n",
    "    'cap-color_r': 'Green Cap Color',\n",
    "    'cap-color_p': 'Pink Cap Color',\n",
    "    'cap-color_u': 'Purple Cap Color',\n",
    "    'cap-color_e': 'Red Cap Color',\n",
    "    'cap-color_w': 'White Cap Color',\n",
    "    'cap-color_y': 'Yellow Cap Color',\n",
    "    'bruises?_t': 'Bruises',\n",
    "    'bruises?_f': 'No Bruises',\n",
    "    'odor_a': 'Almond Odor',\n",
    "    'odor_l': 'Anise Odor',\n",
    "    'odor_c': 'Creosote Odor',\n",
    "    'odor_y': 'Fishy Odor',\n",
    "    'odor_f': 'Foul Odor',\n",
    "    'odor_m': 'Musty Odor',\n",
    "    'odor_n': 'No Odor',\n",
    "    'odor_p': 'Pungent Odor',\n",
    "    'odor_s': 'Spicy Odor',\n",
    "    'gill-attachment_a': 'Attached Gills',\n",
    "    'gill-attachment_d': 'Descending Gills',\n",
    "    'gill-attachment_f': 'Free Gills',\n",
    "    'gill-attachment_n': 'Notched Gills',\n",
    "    'gill-spacing_c': 'Closely Spaced Gills',\n",
    "    'gill-spacing_w': 'Crowded Gills',\n",
    "    'gill-spacing_d': 'Distantly Spaced Gills',\n",
    "    'gill-size_b': 'Broad Gills',\n",
    "    'gill-size_n': 'Narrow Gills',\n",
    "    'gill-color_k': 'Black Gills',\n",
    "    'gill-color_n': 'Brown Gills',\n",
    "    'gill-color_b': 'Buff Gills',\n",
    "    'gill-color_h': 'Chocolate Gills',\n",
    "    'gill-color_g': 'Gray Gills',\n",
    "    'gill-color_r': 'Gree Gills',\n",
    "    'gill-color_o': 'Orange Gills',\n",
    "    'gill-color_p': 'Pink Gills',\n",
    "    'gill-color_u': 'Purple Gills',\n",
    "    'gill-color_e': 'Red Gills',\n",
    "    'gill-color_w': 'White Gills',\n",
    "    'gill-color_y': 'Yellow Gills',\n",
    "    'stalk-shape_e': 'Enlarging Stalk',\n",
    "    'stalk-shape_t': 'Tapering Stalk',\n",
    "    'stalk-root_b': 'Bulbous Root',\n",
    "    'stalk-root_c': 'Cup Root',\n",
    "    'stalk-root_u': 'Club Root',\n",
    "    'stalk-root_e': 'Equal Root',\n",
    "    'stalk-root_z': 'Rhizomorph Root',\n",
    "    'stalk-root_r': 'Rooted Root',\n",
    "    'stalk-root_m': 'Missing',\n",
    "    'stalk-surface-above-ring_f': 'Fibrous Surface Above Ring',\n",
    "    'stalk-surface-above-ring_y': 'Scaly Surface Above Ring',\n",
    "    'stalk-surface-above-ring_k': 'Silky Surface Above Ring',\n",
    "    'stalk-surface-above-ring_s': 'Smooth Surface Above Ring',\n",
    "    'stalk-surface-below-ring_f': 'Fibrous Surface Below Ring',\n",
    "    'stalk-surface-below-ring_y': 'Scaly Surface Below Ring',\n",
    "    'stalk-surface-below-ring_k': 'Silky Surface Below Ring',\n",
    "    'stalk-surface-below-ring_s': 'Smooth Surface Below Ring',\n",
    "    'stalk-color-above-ring_n': 'Brown Stalk Above Ring',\n",
    "    'stalk-color-above-ring_b': 'Buff Stalk Above Ring',\n",
    "    'stalk-color-above-ring_c': 'Cinnamon Stalk Above Ring',\n",
    "    'stalk-color-above-ring_g': 'Gray Stalk Above Ring',\n",
    "    'stalk-color-above-ring_o': 'Orange Stalk Above Ring',\n",
    "    'stalk-color-above-ring_p': 'Pink Stalk Above Ring',\n",
    "    'stalk-color-above-ring_e': 'Red Stalk Above Ring',\n",
    "    'stalk-color-above-ring_w': 'White Stalk Above Ring',\n",
    "    'stalk-color-above-ring_y': 'Yellow Stalk Above Ring',\n",
    "    'stalk-color-below-ring_n': 'Brown Stalk Below Ring',\n",
    "    'stalk-color-below-ring_b': 'Buff Stalk Below Ring',\n",
    "    'stalk-color-below-ring_c': 'Cinnamon Stalk Below Ring',\n",
    "    'stalk-color-below-ring_g': 'Gray Stalk Below Ring',\n",
    "    'stalk-color-below-ring_o': 'Orange Stalk Below Ring',\n",
    "    'stalk-color-below-ring_p': 'Pink Stalk Below Ring',\n",
    "    'stalk-color-below-ring_e': 'Red Stalk Below Ring',\n",
    "    'stalk-color-below-ring_w': 'White Stalk Below Ring',\n",
    "    'stalk-color-below-ring_y': 'Yellow Stalk Below Ring',\n",
    "    'veil-type_p' : 'Partial Veil',\n",
    "    'veil-type_u' : 'Universial Veil',\n",
    "    'veil-color_n' : 'Brown Veil',\n",
    "    'veil-color_o' : 'Orange Veil',\n",
    "    'veil-color_w' : 'White Veil',\n",
    "    'veil-color_y' : 'Yellow Veil',\n",
    "    'ring-number_n' : 'No Ring',\n",
    "    'ring-number_o' : 'One Ring',\n",
    "    'ring-number_t' : 'Two Rings',\n",
    "    'ring-type_c' : 'Cobwebby Ring',\n",
    "    'ring-type_e' : 'Evanescent Ring',\n",
    "    'ring-type_f' : 'Flaring Ring',\n",
    "    'ring-type_l' : 'Large Ring',\n",
    "    'ring-type_n' : 'No Ring',\n",
    "    'ring-type_p' : 'Pendant Ring',\n",
    "    'ring-type_s' : 'Sheathing Ring',\n",
    "    'ring-type_z' : 'Zone Ring',\n",
    "    'spore-print-color_k' : 'Black Spore Print',\n",
    "    'spore-print-color_n' : 'Brown Spore Print',\n",
    "    'spore-print-color_b' : 'Buff Spore Print',\n",
    "    'spore-print-color_h' : 'Chocolate Spore Print',\n",
    "    'spore-print-color_r' : 'Green Spore Print',\n",
    "    'spore-print-color_o' : 'Orange Spore Print',\n",
    "    'spore-print-color_u' : 'Purple Spore Print',\n",
    "    'spore-print-color_w' : 'White Spore Print',\n",
    "    'spore-print-color_y' : 'Yellow Spore Print',\n",
    "    'population_a' : 'Abundant Population',\n",
    "    'population_c' : 'Clustered Population',\n",
    "    'population_n' : 'Numerous Population',\n",
    "    'population_s' : 'Scattered Population',\n",
    "    'population_v' : 'Several Population',\n",
    "    'population_y' : 'Solitary Population',\n",
    "    'habitat_g' : 'Habitat: Grass',\n",
    "    'habitat_l' : 'Habitat: Leaves',\n",
    "    'habitat_m' : 'Habitat: Meadows',\n",
    "    'habitat_p' : 'Habitat: Paths',\n",
    "    'habitat_u' : 'Habitat: Urban',\n",
    "    'habitat_w' : 'Habitat: Waste',\n",
    "    'habitat_d' : 'Habitat: Woods', \n",
    "}"
   ]
  },
  {
   "cell_type": "code",
   "execution_count": 3,
   "metadata": {},
   "outputs": [],
   "source": [
    "# Load data\n",
    "pickleFile = open(\"../assets/clean_mushroom_data.pkl\", 'rb')\n",
    "mushrooms = pickle.load(pickleFile)\n",
    "pickleFile.close()\n",
    "\n",
    "\n",
    "#### Create features and target and train test split\n",
    "X = mushrooms.drop(columns='class')\n",
    "X = ce.OneHotEncoder(use_cat_names=True).fit_transform(X)\n",
    "X = X.rename(columns = column_map)\n",
    "\n",
    "#X\n",
    "\n",
    "y = mushrooms['class'].replace({'p':0, 'e':1})\n",
    "\n",
    "X_train, X_test, y_train, y_test = train_test_split(X, y, random_state=42,\n",
    "                                                    test_size=.2, stratify=y)"
   ]
  },
  {
   "cell_type": "code",
   "execution_count": 4,
   "metadata": {},
   "outputs": [
    {
     "data": {
      "text/plain": [
       "Index(['Convex Cap Shape', 'Bell Cap Shape', 'Sunken Cap Shape',\n",
       "       'Flat Cap Shape', 'Knobbed Cap Shape', 'Conical Cap Shape',\n",
       "       'Smooth Cap Surface', 'Scaly Cap Surface', 'Fibrous Cap Surface',\n",
       "       'Groovey Cap Surface',\n",
       "       ...\n",
       "       'Several Population', 'Solitary Population', 'Clustered Population',\n",
       "       'Habitat: Urban', 'Habitat: Grass', 'Habitat: Meadows',\n",
       "       'Habitat: Woods', 'Habitat: Paths', 'Habitat: Waste',\n",
       "       'Habitat: Leaves'],\n",
       "      dtype='object', length=117)"
      ]
     },
     "execution_count": 4,
     "metadata": {},
     "output_type": "execute_result"
    }
   ],
   "source": [
    "X_test.columns"
   ]
  },
  {
   "cell_type": "code",
   "execution_count": 5,
   "metadata": {},
   "outputs": [],
   "source": [
    "def pickle_model(model, filename):\n",
    "    pickleFile = open(filename, 'wb')\n",
    "    pickle.dump(model, pickleFile)\n",
    "    pickleFile.close()"
   ]
  },
  {
   "cell_type": "code",
   "execution_count": 6,
   "metadata": {},
   "outputs": [],
   "source": [
    "pickle_model(X_test, '../assets/X_test.pkl')\n",
    "pickle_model(y_test, '../assets/y_test.pkl')"
   ]
  },
  {
   "cell_type": "markdown",
   "metadata": {},
   "source": [
    "## Decision Stump"
   ]
  },
  {
   "cell_type": "code",
   "execution_count": 7,
   "metadata": {},
   "outputs": [
    {
     "data": {
      "text/plain": [
       "DecisionTreeClassifier(class_weight=None, criterion='gini', max_depth=1,\n",
       "                       max_features=None, max_leaf_nodes=None,\n",
       "                       min_impurity_decrease=0.0, min_impurity_split=None,\n",
       "                       min_samples_leaf=1, min_samples_split=2,\n",
       "                       min_weight_fraction_leaf=0.0, presort=False,\n",
       "                       random_state=None, splitter='best')"
      ]
     },
     "execution_count": 7,
     "metadata": {},
     "output_type": "execute_result"
    }
   ],
   "source": [
    "decision_stump = DecisionTreeClassifier(max_depth=1)\n",
    "\n",
    "decision_stump.fit(X_train, y_train)"
   ]
  },
  {
   "cell_type": "code",
   "execution_count": 8,
   "metadata": {},
   "outputs": [
    {
     "data": {
      "text/html": [
       "<div>\n",
       "<style scoped>\n",
       "    .dataframe tbody tr th:only-of-type {\n",
       "        vertical-align: middle;\n",
       "    }\n",
       "\n",
       "    .dataframe tbody tr th {\n",
       "        vertical-align: top;\n",
       "    }\n",
       "\n",
       "    .dataframe thead th {\n",
       "        text-align: right;\n",
       "    }\n",
       "</style>\n",
       "<table border=\"1\" class=\"dataframe\">\n",
       "  <thead>\n",
       "    <tr style=\"text-align: right;\">\n",
       "      <th></th>\n",
       "      <th>0-Poisonous</th>\n",
       "      <th>1-Edible</th>\n",
       "      <th>accuracy</th>\n",
       "      <th>macro avg</th>\n",
       "      <th>weighted avg</th>\n",
       "    </tr>\n",
       "  </thead>\n",
       "  <tbody>\n",
       "    <tr>\n",
       "      <th>f1-score</th>\n",
       "      <td>0.894214</td>\n",
       "      <td>0.882391</td>\n",
       "      <td>0.888615</td>\n",
       "      <td>0.888303</td>\n",
       "      <td>0.888088</td>\n",
       "    </tr>\n",
       "    <tr>\n",
       "      <th>precision</th>\n",
       "      <td>0.824353</td>\n",
       "      <td>0.974175</td>\n",
       "      <td>0.888615</td>\n",
       "      <td>0.899264</td>\n",
       "      <td>0.901984</td>\n",
       "    </tr>\n",
       "    <tr>\n",
       "      <th>recall</th>\n",
       "      <td>0.977011</td>\n",
       "      <td>0.806413</td>\n",
       "      <td>0.888615</td>\n",
       "      <td>0.891712</td>\n",
       "      <td>0.888615</td>\n",
       "    </tr>\n",
       "    <tr>\n",
       "      <th>support</th>\n",
       "      <td>783.000000</td>\n",
       "      <td>842.000000</td>\n",
       "      <td>0.888615</td>\n",
       "      <td>1625.000000</td>\n",
       "      <td>1625.000000</td>\n",
       "    </tr>\n",
       "  </tbody>\n",
       "</table>\n",
       "</div>"
      ],
      "text/plain": [
       "           0-Poisonous    1-Edible  accuracy    macro avg  weighted avg\n",
       "f1-score      0.894214    0.882391  0.888615     0.888303      0.888088\n",
       "precision     0.824353    0.974175  0.888615     0.899264      0.901984\n",
       "recall        0.977011    0.806413  0.888615     0.891712      0.888615\n",
       "support     783.000000  842.000000  0.888615  1625.000000   1625.000000"
      ]
     },
     "execution_count": 8,
     "metadata": {},
     "output_type": "execute_result"
    }
   ],
   "source": [
    "model_predictions = decision_stump.predict(X_test)\n",
    "\n",
    "decision_stump_report = pd.DataFrame(classification_report(y_test, model_predictions, target_names=['0-Poisonous', '1-Edible'], output_dict = True))\n",
    "decision_stump_report"
   ]
  },
  {
   "cell_type": "code",
   "execution_count": 9,
   "metadata": {},
   "outputs": [
    {
     "data": {
      "text/html": [
       "<div>\n",
       "<style scoped>\n",
       "    .dataframe tbody tr th:only-of-type {\n",
       "        vertical-align: middle;\n",
       "    }\n",
       "\n",
       "    .dataframe tbody tr th {\n",
       "        vertical-align: top;\n",
       "    }\n",
       "\n",
       "    .dataframe thead th {\n",
       "        text-align: right;\n",
       "    }\n",
       "</style>\n",
       "<table border=\"1\" class=\"dataframe\">\n",
       "  <thead>\n",
       "    <tr style=\"text-align: right;\">\n",
       "      <th></th>\n",
       "      <th>Predicted Poison</th>\n",
       "      <th>Predicted Edible</th>\n",
       "    </tr>\n",
       "  </thead>\n",
       "  <tbody>\n",
       "    <tr>\n",
       "      <th>Actual Poison</th>\n",
       "      <td>765</td>\n",
       "      <td>18</td>\n",
       "    </tr>\n",
       "    <tr>\n",
       "      <th>Actual Edible</th>\n",
       "      <td>163</td>\n",
       "      <td>679</td>\n",
       "    </tr>\n",
       "  </tbody>\n",
       "</table>\n",
       "</div>"
      ],
      "text/plain": [
       "               Predicted Poison  Predicted Edible\n",
       "Actual Poison               765                18\n",
       "Actual Edible               163               679"
      ]
     },
     "execution_count": 9,
     "metadata": {},
     "output_type": "execute_result"
    }
   ],
   "source": [
    "con_matrix = pd.DataFrame(confusion_matrix(y_test, model_predictions),\n",
    "                                columns=['Predicted Poison', 'Predicted Edible'], \n",
    "                                index=['Actual Poison', 'Actual Edible'])\n",
    "con_matrix"
   ]
  },
  {
   "cell_type": "code",
   "execution_count": 10,
   "metadata": {},
   "outputs": [],
   "source": [
    "pickle_model(decision_stump, \"../assets/decision_stump.pkl\")"
   ]
  },
  {
   "cell_type": "markdown",
   "metadata": {},
   "source": [
    "## Vanilla Decision Tree"
   ]
  },
  {
   "cell_type": "code",
   "execution_count": 11,
   "metadata": {},
   "outputs": [
    {
     "data": {
      "text/plain": [
       "DecisionTreeClassifier(class_weight=None, criterion='gini', max_depth=2,\n",
       "                       max_features=None, max_leaf_nodes=None,\n",
       "                       min_impurity_decrease=0.0, min_impurity_split=None,\n",
       "                       min_samples_leaf=1, min_samples_split=2,\n",
       "                       min_weight_fraction_leaf=0.0, presort=False,\n",
       "                       random_state=None, splitter='best')"
      ]
     },
     "execution_count": 11,
     "metadata": {},
     "output_type": "execute_result"
    }
   ],
   "source": [
    "vanilla_decision_tree = DecisionTreeClassifier(max_depth=2)\n",
    "\n",
    "vanilla_decision_tree.fit(X_train, y_train)"
   ]
  },
  {
   "cell_type": "code",
   "execution_count": 12,
   "metadata": {},
   "outputs": [
    {
     "data": {
      "text/html": [
       "<div>\n",
       "<style scoped>\n",
       "    .dataframe tbody tr th:only-of-type {\n",
       "        vertical-align: middle;\n",
       "    }\n",
       "\n",
       "    .dataframe tbody tr th {\n",
       "        vertical-align: top;\n",
       "    }\n",
       "\n",
       "    .dataframe thead th {\n",
       "        text-align: right;\n",
       "    }\n",
       "</style>\n",
       "<table border=\"1\" class=\"dataframe\">\n",
       "  <thead>\n",
       "    <tr style=\"text-align: right;\">\n",
       "      <th></th>\n",
       "      <th>0-Poisonous</th>\n",
       "      <th>1-Edible</th>\n",
       "      <th>accuracy</th>\n",
       "      <th>macro avg</th>\n",
       "      <th>weighted avg</th>\n",
       "    </tr>\n",
       "  </thead>\n",
       "  <tbody>\n",
       "    <tr>\n",
       "      <th>f1-score</th>\n",
       "      <td>0.950617</td>\n",
       "      <td>0.950920</td>\n",
       "      <td>0.950769</td>\n",
       "      <td>0.950769</td>\n",
       "      <td>0.950774</td>\n",
       "    </tr>\n",
       "    <tr>\n",
       "      <th>precision</th>\n",
       "      <td>0.919952</td>\n",
       "      <td>0.983503</td>\n",
       "      <td>0.950769</td>\n",
       "      <td>0.951727</td>\n",
       "      <td>0.952881</td>\n",
       "    </tr>\n",
       "    <tr>\n",
       "      <th>recall</th>\n",
       "      <td>0.983397</td>\n",
       "      <td>0.920428</td>\n",
       "      <td>0.950769</td>\n",
       "      <td>0.951912</td>\n",
       "      <td>0.950769</td>\n",
       "    </tr>\n",
       "    <tr>\n",
       "      <th>support</th>\n",
       "      <td>783.000000</td>\n",
       "      <td>842.000000</td>\n",
       "      <td>0.950769</td>\n",
       "      <td>1625.000000</td>\n",
       "      <td>1625.000000</td>\n",
       "    </tr>\n",
       "  </tbody>\n",
       "</table>\n",
       "</div>"
      ],
      "text/plain": [
       "           0-Poisonous    1-Edible  accuracy    macro avg  weighted avg\n",
       "f1-score      0.950617    0.950920  0.950769     0.950769      0.950774\n",
       "precision     0.919952    0.983503  0.950769     0.951727      0.952881\n",
       "recall        0.983397    0.920428  0.950769     0.951912      0.950769\n",
       "support     783.000000  842.000000  0.950769  1625.000000   1625.000000"
      ]
     },
     "execution_count": 12,
     "metadata": {},
     "output_type": "execute_result"
    }
   ],
   "source": [
    "model_predictions = vanilla_decision_tree.predict(X_test)\n",
    "\n",
    "vanilla_decision_tree_report = pd.DataFrame(\n",
    "    classification_report(y_test,\n",
    "                          model_predictions,\n",
    "                          target_names=['0-Poisonous', '1-Edible'],\n",
    "                          output_dict = True)\n",
    "    )\n",
    "\n",
    "vanilla_decision_tree_report"
   ]
  },
  {
   "cell_type": "code",
   "execution_count": 13,
   "metadata": {},
   "outputs": [
    {
     "data": {
      "text/html": [
       "<div>\n",
       "<style scoped>\n",
       "    .dataframe tbody tr th:only-of-type {\n",
       "        vertical-align: middle;\n",
       "    }\n",
       "\n",
       "    .dataframe tbody tr th {\n",
       "        vertical-align: top;\n",
       "    }\n",
       "\n",
       "    .dataframe thead th {\n",
       "        text-align: right;\n",
       "    }\n",
       "</style>\n",
       "<table border=\"1\" class=\"dataframe\">\n",
       "  <thead>\n",
       "    <tr style=\"text-align: right;\">\n",
       "      <th></th>\n",
       "      <th>Predicted Poison</th>\n",
       "      <th>Predicted Edible</th>\n",
       "    </tr>\n",
       "  </thead>\n",
       "  <tbody>\n",
       "    <tr>\n",
       "      <th>Actual Poison</th>\n",
       "      <td>770</td>\n",
       "      <td>13</td>\n",
       "    </tr>\n",
       "    <tr>\n",
       "      <th>Actual Edible</th>\n",
       "      <td>67</td>\n",
       "      <td>775</td>\n",
       "    </tr>\n",
       "  </tbody>\n",
       "</table>\n",
       "</div>"
      ],
      "text/plain": [
       "               Predicted Poison  Predicted Edible\n",
       "Actual Poison               770                13\n",
       "Actual Edible                67               775"
      ]
     },
     "execution_count": 13,
     "metadata": {},
     "output_type": "execute_result"
    }
   ],
   "source": [
    "con_matrix = pd.DataFrame(confusion_matrix(y_test, model_predictions),\n",
    "                                columns=['Predicted Poison', 'Predicted Edible'], \n",
    "                                index=['Actual Poison', 'Actual Edible'])\n",
    "con_matrix"
   ]
  },
  {
   "cell_type": "code",
   "execution_count": 14,
   "metadata": {},
   "outputs": [],
   "source": [
    "pickle_model(vanilla_decision_tree, \"../assets/vanilla_decision_tree.pkl\")"
   ]
  },
  {
   "cell_type": "markdown",
   "metadata": {},
   "source": [
    "## Decision Tree with Hyperparameter Optomization"
   ]
  },
  {
   "cell_type": "code",
   "execution_count": 15,
   "metadata": {},
   "outputs": [
    {
     "name": "stdout",
     "output_type": "stream",
     "text": [
      "Fitting 10 folds for each of 11 candidates, totalling 110 fits\n"
     ]
    },
    {
     "name": "stderr",
     "output_type": "stream",
     "text": [
      "/Users/mattkirby/opt/anaconda3/envs/dash_app/lib/python3.6/site-packages/sklearn/model_selection/_search.py:266: UserWarning:\n",
      "\n",
      "The total space of parameters 11 is smaller than n_iter=100. Running 11 iterations. For exhaustive searches, use GridSearchCV.\n",
      "\n",
      "[Parallel(n_jobs=-1)]: Using backend LokyBackend with 4 concurrent workers.\n",
      "[Parallel(n_jobs=-1)]: Done   5 tasks      | elapsed:    6.5s\n",
      "[Parallel(n_jobs=-1)]: Done  10 tasks      | elapsed:    7.1s\n",
      "[Parallel(n_jobs=-1)]: Done  17 tasks      | elapsed:    7.4s\n",
      "[Parallel(n_jobs=-1)]: Done  24 tasks      | elapsed:    7.7s\n",
      "[Parallel(n_jobs=-1)]: Done  33 tasks      | elapsed:    8.1s\n",
      "[Parallel(n_jobs=-1)]: Done  42 tasks      | elapsed:    8.3s\n",
      "[Parallel(n_jobs=-1)]: Done  53 tasks      | elapsed:    8.8s\n",
      "[Parallel(n_jobs=-1)]: Done  64 tasks      | elapsed:    9.3s\n",
      "[Parallel(n_jobs=-1)]: Done  77 tasks      | elapsed:    9.8s\n",
      "[Parallel(n_jobs=-1)]: Done  90 tasks      | elapsed:   10.2s\n",
      "[Parallel(n_jobs=-1)]: Done 110 out of 110 | elapsed:   11.0s finished\n"
     ]
    }
   ],
   "source": [
    "param_distributions = {\n",
    "    'max_depth':[1, 2, 3, 4, 5, 6, 7, 8, 9, 10, 11]\n",
    "}\n",
    "\n",
    "search = RandomizedSearchCV(estimator = DecisionTreeClassifier(),\n",
    "                            param_distributions = param_distributions,\n",
    "                            n_iter=100,\n",
    "                            scoring='precision',\n",
    "                            n_jobs=-1,\n",
    "                            cv=10,\n",
    "                            verbose=10,\n",
    "                            return_train_score=True)\n",
    "\n",
    "search.fit(X_train, y_train)\n",
    "\n",
    "opto_decision_tree = search.best_estimator_"
   ]
  },
  {
   "cell_type": "code",
   "execution_count": 16,
   "metadata": {},
   "outputs": [
    {
     "data": {
      "text/html": [
       "<div>\n",
       "<style scoped>\n",
       "    .dataframe tbody tr th:only-of-type {\n",
       "        vertical-align: middle;\n",
       "    }\n",
       "\n",
       "    .dataframe tbody tr th {\n",
       "        vertical-align: top;\n",
       "    }\n",
       "\n",
       "    .dataframe thead th {\n",
       "        text-align: right;\n",
       "    }\n",
       "</style>\n",
       "<table border=\"1\" class=\"dataframe\">\n",
       "  <thead>\n",
       "    <tr style=\"text-align: right;\">\n",
       "      <th></th>\n",
       "      <th>0-Poisonous</th>\n",
       "      <th>1-Edible</th>\n",
       "      <th>accuracy</th>\n",
       "      <th>macro avg</th>\n",
       "      <th>weighted avg</th>\n",
       "    </tr>\n",
       "  </thead>\n",
       "  <tbody>\n",
       "    <tr>\n",
       "      <th>f1-score</th>\n",
       "      <td>1.0</td>\n",
       "      <td>1.0</td>\n",
       "      <td>1.0</td>\n",
       "      <td>1.0</td>\n",
       "      <td>1.0</td>\n",
       "    </tr>\n",
       "    <tr>\n",
       "      <th>precision</th>\n",
       "      <td>1.0</td>\n",
       "      <td>1.0</td>\n",
       "      <td>1.0</td>\n",
       "      <td>1.0</td>\n",
       "      <td>1.0</td>\n",
       "    </tr>\n",
       "    <tr>\n",
       "      <th>recall</th>\n",
       "      <td>1.0</td>\n",
       "      <td>1.0</td>\n",
       "      <td>1.0</td>\n",
       "      <td>1.0</td>\n",
       "      <td>1.0</td>\n",
       "    </tr>\n",
       "    <tr>\n",
       "      <th>support</th>\n",
       "      <td>783.0</td>\n",
       "      <td>842.0</td>\n",
       "      <td>1.0</td>\n",
       "      <td>1625.0</td>\n",
       "      <td>1625.0</td>\n",
       "    </tr>\n",
       "  </tbody>\n",
       "</table>\n",
       "</div>"
      ],
      "text/plain": [
       "           0-Poisonous  1-Edible  accuracy  macro avg  weighted avg\n",
       "f1-score           1.0       1.0       1.0        1.0           1.0\n",
       "precision          1.0       1.0       1.0        1.0           1.0\n",
       "recall             1.0       1.0       1.0        1.0           1.0\n",
       "support          783.0     842.0       1.0     1625.0        1625.0"
      ]
     },
     "execution_count": 16,
     "metadata": {},
     "output_type": "execute_result"
    }
   ],
   "source": [
    "model_predictions = opto_decision_tree.predict(X_test)\n",
    "\n",
    "opto_decision_tree_report = pd.DataFrame(classification_report(y_test, model_predictions, target_names=['0-Poisonous', '1-Edible'], output_dict = True))\n",
    "opto_decision_tree_report"
   ]
  },
  {
   "cell_type": "code",
   "execution_count": 17,
   "metadata": {},
   "outputs": [
    {
     "data": {
      "text/html": [
       "<div>\n",
       "<style scoped>\n",
       "    .dataframe tbody tr th:only-of-type {\n",
       "        vertical-align: middle;\n",
       "    }\n",
       "\n",
       "    .dataframe tbody tr th {\n",
       "        vertical-align: top;\n",
       "    }\n",
       "\n",
       "    .dataframe thead th {\n",
       "        text-align: right;\n",
       "    }\n",
       "</style>\n",
       "<table border=\"1\" class=\"dataframe\">\n",
       "  <thead>\n",
       "    <tr style=\"text-align: right;\">\n",
       "      <th></th>\n",
       "      <th>Predicted Poison</th>\n",
       "      <th>Predicted Edible</th>\n",
       "    </tr>\n",
       "  </thead>\n",
       "  <tbody>\n",
       "    <tr>\n",
       "      <th>Actual Poison</th>\n",
       "      <td>783</td>\n",
       "      <td>0</td>\n",
       "    </tr>\n",
       "    <tr>\n",
       "      <th>Actual Edible</th>\n",
       "      <td>0</td>\n",
       "      <td>842</td>\n",
       "    </tr>\n",
       "  </tbody>\n",
       "</table>\n",
       "</div>"
      ],
      "text/plain": [
       "               Predicted Poison  Predicted Edible\n",
       "Actual Poison               783                 0\n",
       "Actual Edible                 0               842"
      ]
     },
     "execution_count": 17,
     "metadata": {},
     "output_type": "execute_result"
    }
   ],
   "source": [
    "con_matrix = pd.DataFrame(confusion_matrix(y_test, model_predictions),\n",
    "                                columns=['Predicted Poison', 'Predicted Edible'], \n",
    "                                index=['Actual Poison', 'Actual Edible'])\n",
    "con_matrix"
   ]
  },
  {
   "cell_type": "code",
   "execution_count": 18,
   "metadata": {},
   "outputs": [],
   "source": [
    "pickle_model(opto_decision_tree, \"../assets/opto_decision_tree.pkl\")"
   ]
  },
  {
   "cell_type": "markdown",
   "metadata": {},
   "source": [
    "## Vanilla Random Forest"
   ]
  },
  {
   "cell_type": "code",
   "execution_count": 19,
   "metadata": {},
   "outputs": [
    {
     "data": {
      "text/plain": [
       "DecisionTreeClassifier(class_weight=None, criterion='gini', max_depth=3,\n",
       "                       max_features=None, max_leaf_nodes=None,\n",
       "                       min_impurity_decrease=0.0, min_impurity_split=None,\n",
       "                       min_samples_leaf=1, min_samples_split=2,\n",
       "                       min_weight_fraction_leaf=0.0, presort=False,\n",
       "                       random_state=None, splitter='best')"
      ]
     },
     "execution_count": 19,
     "metadata": {},
     "output_type": "execute_result"
    }
   ],
   "source": [
    "vanilla_forest = DecisionTreeClassifier(max_depth=3)\n",
    "\n",
    "vanilla_forest.fit(X_train, y_train)"
   ]
  },
  {
   "cell_type": "code",
   "execution_count": 20,
   "metadata": {},
   "outputs": [
    {
     "data": {
      "text/html": [
       "<div>\n",
       "<style scoped>\n",
       "    .dataframe tbody tr th:only-of-type {\n",
       "        vertical-align: middle;\n",
       "    }\n",
       "\n",
       "    .dataframe tbody tr th {\n",
       "        vertical-align: top;\n",
       "    }\n",
       "\n",
       "    .dataframe thead th {\n",
       "        text-align: right;\n",
       "    }\n",
       "</style>\n",
       "<table border=\"1\" class=\"dataframe\">\n",
       "  <thead>\n",
       "    <tr style=\"text-align: right;\">\n",
       "      <th></th>\n",
       "      <th>0-Poisonous</th>\n",
       "      <th>1-Edible</th>\n",
       "      <th>accuracy</th>\n",
       "      <th>macro avg</th>\n",
       "      <th>weighted avg</th>\n",
       "    </tr>\n",
       "  </thead>\n",
       "  <tbody>\n",
       "    <tr>\n",
       "      <th>f1-score</th>\n",
       "      <td>0.984887</td>\n",
       "      <td>0.985560</td>\n",
       "      <td>0.985231</td>\n",
       "      <td>0.985223</td>\n",
       "      <td>0.985235</td>\n",
       "    </tr>\n",
       "    <tr>\n",
       "      <th>precision</th>\n",
       "      <td>0.971429</td>\n",
       "      <td>0.998780</td>\n",
       "      <td>0.985231</td>\n",
       "      <td>0.985105</td>\n",
       "      <td>0.985601</td>\n",
       "    </tr>\n",
       "    <tr>\n",
       "      <th>recall</th>\n",
       "      <td>0.998723</td>\n",
       "      <td>0.972684</td>\n",
       "      <td>0.985231</td>\n",
       "      <td>0.985703</td>\n",
       "      <td>0.985231</td>\n",
       "    </tr>\n",
       "    <tr>\n",
       "      <th>support</th>\n",
       "      <td>783.000000</td>\n",
       "      <td>842.000000</td>\n",
       "      <td>0.985231</td>\n",
       "      <td>1625.000000</td>\n",
       "      <td>1625.000000</td>\n",
       "    </tr>\n",
       "  </tbody>\n",
       "</table>\n",
       "</div>"
      ],
      "text/plain": [
       "           0-Poisonous    1-Edible  accuracy    macro avg  weighted avg\n",
       "f1-score      0.984887    0.985560  0.985231     0.985223      0.985235\n",
       "precision     0.971429    0.998780  0.985231     0.985105      0.985601\n",
       "recall        0.998723    0.972684  0.985231     0.985703      0.985231\n",
       "support     783.000000  842.000000  0.985231  1625.000000   1625.000000"
      ]
     },
     "execution_count": 20,
     "metadata": {},
     "output_type": "execute_result"
    }
   ],
   "source": [
    "model_predictions = vanilla_forest.predict(X_test)\n",
    "\n",
    "vanilla_forest_report = pd.DataFrame(classification_report(y_test, model_predictions, target_names=['0-Poisonous', '1-Edible'], output_dict = True))\n",
    "vanilla_forest_report"
   ]
  },
  {
   "cell_type": "code",
   "execution_count": 21,
   "metadata": {},
   "outputs": [
    {
     "data": {
      "text/html": [
       "<div>\n",
       "<style scoped>\n",
       "    .dataframe tbody tr th:only-of-type {\n",
       "        vertical-align: middle;\n",
       "    }\n",
       "\n",
       "    .dataframe tbody tr th {\n",
       "        vertical-align: top;\n",
       "    }\n",
       "\n",
       "    .dataframe thead th {\n",
       "        text-align: right;\n",
       "    }\n",
       "</style>\n",
       "<table border=\"1\" class=\"dataframe\">\n",
       "  <thead>\n",
       "    <tr style=\"text-align: right;\">\n",
       "      <th></th>\n",
       "      <th>Predicted Poison</th>\n",
       "      <th>Predicted Edible</th>\n",
       "    </tr>\n",
       "  </thead>\n",
       "  <tbody>\n",
       "    <tr>\n",
       "      <th>Actual Poison</th>\n",
       "      <td>782</td>\n",
       "      <td>1</td>\n",
       "    </tr>\n",
       "    <tr>\n",
       "      <th>Actual Edible</th>\n",
       "      <td>23</td>\n",
       "      <td>819</td>\n",
       "    </tr>\n",
       "  </tbody>\n",
       "</table>\n",
       "</div>"
      ],
      "text/plain": [
       "               Predicted Poison  Predicted Edible\n",
       "Actual Poison               782                 1\n",
       "Actual Edible                23               819"
      ]
     },
     "execution_count": 21,
     "metadata": {},
     "output_type": "execute_result"
    }
   ],
   "source": [
    "con_matrix = pd.DataFrame(confusion_matrix(y_test, model_predictions),\n",
    "                                columns=['Predicted Poison', 'Predicted Edible'], \n",
    "                                index=['Actual Poison', 'Actual Edible'])\n",
    "con_matrix"
   ]
  },
  {
   "cell_type": "code",
   "execution_count": 22,
   "metadata": {},
   "outputs": [],
   "source": [
    "pickle_model(vanilla_forest, \"../assets/vanilla_forest.pkl\")"
   ]
  },
  {
   "cell_type": "markdown",
   "metadata": {},
   "source": [
    "## Random Forest with Hyperparameter Optomization"
   ]
  },
  {
   "cell_type": "code",
   "execution_count": 23,
   "metadata": {},
   "outputs": [
    {
     "data": {
      "text/plain": [
       "\"param_distributions = {\\n    'max_depth':[1, 2, 3, 4, 5, 6, 7, 8, 9, 10, 11],\\n    'n_estimators': [10, 25, 50, 100]\\n}\\n\\nsearch = RandomizedSearchCV(estimator = RandomForestClassifier(),\\n                            param_distributions = param_distributions,\\n                            n_iter=100,\\n                            scoring='precision',\\n                            n_jobs=-1,\\n                            cv=10,\\n                            verbose=10,\\n                            return_train_score=True)\\n\\nsearch.fit(X_train, y_train)\\n\\nopto_forest = search.best_estimator_\""
      ]
     },
     "execution_count": 23,
     "metadata": {},
     "output_type": "execute_result"
    }
   ],
   "source": [
    "\"\"\"param_distributions = {\n",
    "    'max_depth':[1, 2, 3, 4, 5, 6, 7, 8, 9, 10, 11],\n",
    "    'n_estimators': [10, 25, 50, 100]\n",
    "}\n",
    "\n",
    "search = RandomizedSearchCV(estimator = RandomForestClassifier(),\n",
    "                            param_distributions = param_distributions,\n",
    "                            n_iter=100,\n",
    "                            scoring='precision',\n",
    "                            n_jobs=-1,\n",
    "                            cv=10,\n",
    "                            verbose=10,\n",
    "                            return_train_score=True)\n",
    "\n",
    "search.fit(X_train, y_train)\n",
    "\n",
    "opto_forest = search.best_estimator_\"\"\""
   ]
  },
  {
   "cell_type": "code",
   "execution_count": 24,
   "metadata": {},
   "outputs": [
    {
     "data": {
      "text/plain": [
       "DecisionTreeClassifier(class_weight=None, criterion='gini', max_depth=4,\n",
       "                       max_features=None, max_leaf_nodes=None,\n",
       "                       min_impurity_decrease=0.0, min_impurity_split=None,\n",
       "                       min_samples_leaf=1, min_samples_split=2,\n",
       "                       min_weight_fraction_leaf=0.0, presort=False,\n",
       "                       random_state=None, splitter='best')"
      ]
     },
     "execution_count": 24,
     "metadata": {},
     "output_type": "execute_result"
    }
   ],
   "source": [
    "opto_forest = DecisionTreeClassifier(max_depth=4)\n",
    "opto_forest.fit(X_train, y_train)"
   ]
  },
  {
   "cell_type": "code",
   "execution_count": 25,
   "metadata": {},
   "outputs": [
    {
     "data": {
      "text/html": [
       "<div>\n",
       "<style scoped>\n",
       "    .dataframe tbody tr th:only-of-type {\n",
       "        vertical-align: middle;\n",
       "    }\n",
       "\n",
       "    .dataframe tbody tr th {\n",
       "        vertical-align: top;\n",
       "    }\n",
       "\n",
       "    .dataframe thead th {\n",
       "        text-align: right;\n",
       "    }\n",
       "</style>\n",
       "<table border=\"1\" class=\"dataframe\">\n",
       "  <thead>\n",
       "    <tr style=\"text-align: right;\">\n",
       "      <th></th>\n",
       "      <th>0-Poisonous</th>\n",
       "      <th>1-Edible</th>\n",
       "      <th>accuracy</th>\n",
       "      <th>macro avg</th>\n",
       "      <th>weighted avg</th>\n",
       "    </tr>\n",
       "  </thead>\n",
       "  <tbody>\n",
       "    <tr>\n",
       "      <th>f1-score</th>\n",
       "      <td>0.993016</td>\n",
       "      <td>0.993433</td>\n",
       "      <td>0.993231</td>\n",
       "      <td>0.993224</td>\n",
       "      <td>0.993232</td>\n",
       "    </tr>\n",
       "    <tr>\n",
       "      <th>precision</th>\n",
       "      <td>0.987374</td>\n",
       "      <td>0.998800</td>\n",
       "      <td>0.993231</td>\n",
       "      <td>0.993087</td>\n",
       "      <td>0.993294</td>\n",
       "    </tr>\n",
       "    <tr>\n",
       "      <th>recall</th>\n",
       "      <td>0.998723</td>\n",
       "      <td>0.988124</td>\n",
       "      <td>0.993231</td>\n",
       "      <td>0.993423</td>\n",
       "      <td>0.993231</td>\n",
       "    </tr>\n",
       "    <tr>\n",
       "      <th>support</th>\n",
       "      <td>783.000000</td>\n",
       "      <td>842.000000</td>\n",
       "      <td>0.993231</td>\n",
       "      <td>1625.000000</td>\n",
       "      <td>1625.000000</td>\n",
       "    </tr>\n",
       "  </tbody>\n",
       "</table>\n",
       "</div>"
      ],
      "text/plain": [
       "           0-Poisonous    1-Edible  accuracy    macro avg  weighted avg\n",
       "f1-score      0.993016    0.993433  0.993231     0.993224      0.993232\n",
       "precision     0.987374    0.998800  0.993231     0.993087      0.993294\n",
       "recall        0.998723    0.988124  0.993231     0.993423      0.993231\n",
       "support     783.000000  842.000000  0.993231  1625.000000   1625.000000"
      ]
     },
     "execution_count": 25,
     "metadata": {},
     "output_type": "execute_result"
    }
   ],
   "source": [
    "model_predictions = opto_forest.predict(X_test)\n",
    "opto_forest_report = pd.DataFrame(classification_report(y_test, model_predictions, target_names=['0-Poisonous', '1-Edible'], output_dict = True))\n",
    "opto_forest_report"
   ]
  },
  {
   "cell_type": "code",
   "execution_count": 26,
   "metadata": {},
   "outputs": [
    {
     "data": {
      "text/html": [
       "<div>\n",
       "<style scoped>\n",
       "    .dataframe tbody tr th:only-of-type {\n",
       "        vertical-align: middle;\n",
       "    }\n",
       "\n",
       "    .dataframe tbody tr th {\n",
       "        vertical-align: top;\n",
       "    }\n",
       "\n",
       "    .dataframe thead th {\n",
       "        text-align: right;\n",
       "    }\n",
       "</style>\n",
       "<table border=\"1\" class=\"dataframe\">\n",
       "  <thead>\n",
       "    <tr style=\"text-align: right;\">\n",
       "      <th></th>\n",
       "      <th>Predicted Poison</th>\n",
       "      <th>Predicted Edible</th>\n",
       "    </tr>\n",
       "  </thead>\n",
       "  <tbody>\n",
       "    <tr>\n",
       "      <th>Actual Poison</th>\n",
       "      <td>782</td>\n",
       "      <td>1</td>\n",
       "    </tr>\n",
       "    <tr>\n",
       "      <th>Actual Edible</th>\n",
       "      <td>10</td>\n",
       "      <td>832</td>\n",
       "    </tr>\n",
       "  </tbody>\n",
       "</table>\n",
       "</div>"
      ],
      "text/plain": [
       "               Predicted Poison  Predicted Edible\n",
       "Actual Poison               782                 1\n",
       "Actual Edible                10               832"
      ]
     },
     "execution_count": 26,
     "metadata": {},
     "output_type": "execute_result"
    }
   ],
   "source": [
    "con_matrix = pd.DataFrame(confusion_matrix(y_test, model_predictions),\n",
    "                                columns=['Predicted Poison', 'Predicted Edible'], \n",
    "                                index=['Actual Poison', 'Actual Edible'])\n",
    "con_matrix"
   ]
  },
  {
   "cell_type": "code",
   "execution_count": 27,
   "metadata": {},
   "outputs": [],
   "source": [
    "pickle_model(opto_forest, \"../assets/opto_forest.pkl\")"
   ]
  },
  {
   "cell_type": "code",
   "execution_count": null,
   "metadata": {
    "colab": {},
    "colab_type": "code",
    "id": "HGYyQj0d6qVI"
   },
   "outputs": [],
   "source": []
  }
 ],
 "metadata": {
  "colab": {
   "name": "Mushroom trevis.ipynb",
   "provenance": []
  },
  "kernelspec": {
   "display_name": "dash",
   "language": "python",
   "name": "dash"
  },
  "language_info": {
   "codemirror_mode": {
    "name": "ipython",
    "version": 3
   },
   "file_extension": ".py",
   "mimetype": "text/x-python",
   "name": "python",
   "nbconvert_exporter": "python",
   "pygments_lexer": "ipython3",
   "version": "3.6.10"
  }
 },
 "nbformat": 4,
 "nbformat_minor": 4
}
