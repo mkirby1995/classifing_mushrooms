{
 "cells": [
  {
   "cell_type": "code",
   "execution_count": 14,
   "metadata": {},
   "outputs": [],
   "source": [
    "import numpy as np\n",
    "\n",
    "\n",
    "class Network:\n",
    "    \n",
    "    def __init__(self):\n",
    "        self.nodes = {}\n",
    "        self.edges = {}\n",
    "        self.node_count = 0\n",
    "        self.edge_count = 0\n",
    "\n",
    "\n",
    "    def add_node(self, label, classes):\n",
    "        \"\"\"\n",
    "        label = str\n",
    "        classes = list of strings\n",
    "        \"\"\"\n",
    "        node_id = self.node_count + 1\n",
    "        node = {'data':{'id': node_id, 'label': label},\n",
    "                'position':{\"x\": np.random.randint(low = 0, high = 200),\n",
    "                            \"y\": np.random.randint(low = 0, high = 200)},\n",
    "                'classes': ' '.join(classes)}\n",
    "        \n",
    "        self.node_count += 1\n",
    "        self.nodes[label] = node\n",
    "        \n",
    "        \n",
    "    def get_node_id(self, label):\n",
    "        return self.nodes[label]['data']['id']\n",
    "    \n",
    "    \n",
    "    def add_edge(self, source_label, relationship, target_label, classes = []):\n",
    "        source_id = self.get_node_id(source_label)\n",
    "        target_id = self.get_node_id(target_label)\n",
    "\n",
    "        edge = {'data': {'source': source_id,\n",
    "                         'target': target_id,\n",
    "                         'relationship': relationship},\n",
    "                'classes': ' '.join(classes)}\n",
    "        self.edge_count += 1\n",
    "        self.edges[str(source_id) + ' ' + str(target_id)] = edge\n",
    "    \n",
    "    \n",
    "    def get_elements(self):\n",
    "        return list(self.nodes.values()) + list(self.edges.values())"
   ]
  },
  {
   "cell_type": "code",
   "execution_count": 15,
   "metadata": {},
   "outputs": [],
   "source": [
    "matts_network = Network()\n",
    "\n",
    "matts_network.add_node(label = 'Matt', classes = ['Person'])\n",
    "matts_network.add_node(label = 'Michael', classes = ['Person'])\n",
    "\n",
    "matts_network.add_edge('Matt', 'Is friends with', 'Michael', classes = ['friendship'])"
   ]
  },
  {
   "cell_type": "code",
   "execution_count": 16,
   "metadata": {},
   "outputs": [
    {
     "data": {
      "text/plain": [
       "[{'data': {'id': 1, 'label': 'Matt'},\n",
       "  'position': {'x': 175, 'y': 81},\n",
       "  'classes': 'Person'},\n",
       " {'data': {'id': 2, 'label': 'Michael'},\n",
       "  'position': {'x': 54, 'y': 187},\n",
       "  'classes': 'Person'},\n",
       " {'data': {'source': 1, 'target': 2, 'relationship': 'Is friends with'},\n",
       "  'classes': 'friendship'}]"
      ]
     },
     "execution_count": 16,
     "metadata": {},
     "output_type": "execute_result"
    }
   ],
   "source": [
    "matts_network.get_elements()"
   ]
  }
 ],
 "metadata": {
  "kernelspec": {
   "display_name": "dash",
   "language": "python",
   "name": "dash"
  },
  "language_info": {
   "codemirror_mode": {
    "name": "ipython",
    "version": 3
   },
   "file_extension": ".py",
   "mimetype": "text/x-python",
   "name": "python",
   "nbconvert_exporter": "python",
   "pygments_lexer": "ipython3",
   "version": "3.6.10"
  }
 },
 "nbformat": 4,
 "nbformat_minor": 4
}
